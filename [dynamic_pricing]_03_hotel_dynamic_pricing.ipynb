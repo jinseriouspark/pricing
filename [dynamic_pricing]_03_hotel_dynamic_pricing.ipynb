{
  "nbformat": 4,
  "nbformat_minor": 0,
  "metadata": {
    "colab": {
      "provenance": [],
      "authorship_tag": "ABX9TyMManpK9zqrNl+6BLGfkLYt",
      "include_colab_link": true
    },
    "kernelspec": {
      "name": "python3",
      "display_name": "Python 3"
    },
    "language_info": {
      "name": "python"
    }
  },
  "cells": [
    {
      "cell_type": "markdown",
      "metadata": {
        "id": "view-in-github",
        "colab_type": "text"
      },
      "source": [
        "<a href=\"https://colab.research.google.com/github/jinseriouspark/pricing/blob/main/%5Bdynamic_pricing%5D_03_hotel_dynamic_pricing.ipynb\" target=\"_parent\"><img src=\"https://colab.research.google.com/assets/colab-badge.svg\" alt=\"Open In Colab\"/></a>"
      ]
    },
    {
      "cell_type": "markdown",
      "source": [
        "# hotel-dynamic-pricing 정리\n",
        "\n",
        "24-07-23 : 코드없음\n",
        "\n",
        "참고자료: https://www.siteminder.com/r/hotel-dynamic-pricing/\n",
        "\n",
        "1. 호텔 가격 변동이란?\n",
        "\n",
        "  호텔 가격을 어떻게 책정할까요? 일반적으로 주말엔 주중보다 가격이 높다거나, 성수기에 책정된 높은 가격들이 유지되는 것들을 의미할 것입니다. 하지만 이렇게 정해진 가격들을 가지고 '수요자들이 늘어난' 시점이나, 경쟁자의 진입에 적절한 대응을 할 수 있을까요?\n",
        "\n",
        "  가격 변동은, 호텔업체의 수익을 극대화 할 수 있도록 특정 기간의 가격대가 지속적으로 변경되는 것을 의미합니다. 하루 또는 한시간, 분 단위 등 다양한 단위를 기준으로 외부 상황을 업데이트하는 것들을 이야기 합니다.\n",
        "\n",
        "  오늘날 호텔의 수익성을 위해서는 '가격변동' 이 더 좋은 방안이 될 수 있습니다.\n",
        "\n",
        "\n",
        "2. 왜 호텔에 dynamic price가 중요할까요?\n",
        "\n",
        "  실시간으로 호텔의 외부 상황이 업데이트 되어 그 요인을 중심으로 가격을 재설정한다면, 호텔은 너무 많은 객실이 공실 상태로 방치되는 것을 막을 수 있겠네요. 또한 잠재가격보다 낮은 가격으로 판매되는 것을 방지할 수도 있고요.\n",
        "\n",
        "  -  점유율 증가\n",
        "  -  이익 극대화\n",
        "  -  예측 개선\n",
        "  -  경쟁 우위\n",
        "  -  유저 통찰력\n",
        "\n",
        "3. 호텔 dynamic price 책정 방법은 어떻게 될까요?\n",
        "\n",
        "  특별 프로모션, 경쟁사 반응, 날씨, 유저행동, 일반 수요 등을 활용해 객실 요금을 조정할 수 있습니다. 1일 또는 7일 내 시장 반응을 추적하여 눈에 띄는 변화를 파악 후 수익 극대화하는 것을 최종 목표로 합니다.\n",
        "\n"
      ],
      "metadata": {
        "id": "lMnxJaN5O-1e"
      }
    },
    {
      "cell_type": "markdown",
      "source": [
        "[참고](https://www.dpgo.com/go/airbnb-dynamic-pricing-software/)\n",
        "\n",
        "\n",
        "필요한 데이터셋\n",
        "\n",
        "- 리뷰\n",
        "- 지역 예약 추세\n",
        "- 경쟁자 가격\n",
        "- 경쟁사 점유율\n",
        "- 계절적 변동\n",
        "- 과거 예약율\n",
        "- 지역 이벤트\n",
        "- 요일\n",
        "- 체류 기간\n",
        "- 유효성\n",
        "- Amenities\n",
        "- 위치\n",
        "- 취소 정책\n",
        "- 부동산 유형\n",
        "- 이웃\n",
        "- 필수 서비스와의 근접성"
      ],
      "metadata": {
        "id": "PQnemtQzfvhE"
      }
    },
    {
      "cell_type": "markdown",
      "source": [
        "# 1. 가격\n",
        "- 기준 가격 : 추가 비용이 제외된 기본 렌탈 가격\n",
        "- 최대 가격 :\n",
        "- 최소 가격 : 손익 분기점보다 낮은 가격으로 손실을 보지 않게 함\n",
        "\n",
        "https://www.dpgo.com/go/wp-content/uploads/2020/12/More-About-DPGO-%E2%80%94-1-1024x734.png"
      ],
      "metadata": {
        "id": "tvjaGtlBjnGV"
      }
    },
    {
      "cell_type": "code",
      "source": [
        "# 과거 24시간 데이터를 기반으로 업데이트 된 추천 가격\n",
        "# 뉴욕 데이터 중 특정"
      ],
      "metadata": {
        "id": "_4YPceXGjme8"
      },
      "execution_count": null,
      "outputs": []
    },
    {
      "cell_type": "markdown",
      "source": [
        "# 2. 할인\n",
        "- 숙박 기간과 예약의 마지막 성격에 따라 휴가용 렌탈 할인을 제공할 수 있음\n",
        "- last-minute discounts 에 따라 여러 정책이 있으며, 14일 ~ 점점 기간이 가까워짐에 따라 할인율을 낮추는 선택이 가능\n",
        "- long-term discount : 고객들이 더 오랜 기간 머물게 하기 위해 예약시 할인을 제공하기 위한 필터 조건\n",
        "  - weekly discount : 7박 이상 예약시 N% 할인\n",
        "  - monthly discount : 1달 이상 예약시 M% 할인"
      ],
      "metadata": {
        "id": "NgSqx5sKm7Qy"
      }
    },
    {
      "cell_type": "markdown",
      "source": [
        "# 3. 주말\n",
        "동적 가격 책정 도구를 사용해 주말 가격을 책정하는 데에는 4가지 접근 방식이 있음\n",
        "\n",
        "- 수요 주도 가격 책정\n",
        "- 데이터 추천 가격보다 더 높은 가격\n",
        "- 데이터 추천 가격보다 더 낮은 가격\n",
        "- 주말 가격 인상 비율을 직접 설정 : 주말 조정 설정 시, 주중 역사적으로 바쁜 시기에 수입을 극대화 할 수 있음"
      ],
      "metadata": {
        "id": "YM6ojP5xnvzL"
      }
    },
    {
      "cell_type": "markdown",
      "source": [
        "# 4. 계절성\n",
        "- 성수기에 따라 가격대를 적용할 수 있음"
      ],
      "metadata": {
        "id": "jSO3u6r_oXtO"
      }
    },
    {
      "cell_type": "markdown",
      "source": [
        "# 5. 실시간 시장 데이터\n",
        "\n",
        "- 경쟁사 데이터를 실시간으로 활용하여, 예약이 급증하는지의 여부를 확인할 수 있으며, 특정 날짜에 대한 가격이 시장과 맞는지 여부를 확인 가능\n",
        "https://www.dpgo.com/go/airbnb-dynamic-pricing-software/"
      ],
      "metadata": {
        "id": "i-xQop7wodTg"
      }
    },
    {
      "cell_type": "markdown",
      "source": [
        "# 6. 최소 체류 기간\n",
        "  예약을 수락하기 위해 필요한 최소 숙박 일수를 중심으로 예약 규칙 설정 가능\n",
        "  - 일반 최소 숙박\n",
        "  - 요일 최소 숙박 : 금요일에 예약시 2박 이상을 예약해야 한다는가 등의 필터링\n",
        "  - 시간 기반 규칙 : 예약이 체크인과 특정 간격을 가지면 어느정도 이상을 예약해야 한다는 등의 필터링\n",
        "  - 날짜별 규칙 : 긴 주말이나 세계 공휴일 등 최소 숙박일을 설정할 수 있음"
      ],
      "metadata": {
        "id": "rxN45lorqPPx"
      }
    },
    {
      "cell_type": "markdown",
      "source": [
        "# 7. 수익 관리\n",
        "\n",
        "- 항목\n",
        "  - Health Score : 설정 기간 (30일 또는 90일) 내 예약이 꾸준히 유치되고 있는지 알려주는 지표\n",
        "    - 평균 점수는 7.4이며, 이보다 크게 낮을 경우 가격이 높을 수도 있음\n",
        "    - 월별 평균 health score도 하단에 보여줌\n",
        "  - Market Supply : 해당 지역 전체에서 내가 가진 상품과 같은 컨디션 (ex. 1 bedroom) 이 몇개 있는지 보여줌\n",
        "    - 과거에는 몇개였으며, 미래에는 몇개가 될 것인지 예측\n",
        "  - Median Market Price : 다음 30일 동안의 마켓 가격 중앙값\n",
        "  - 중앙에 나의 공간과 경쟁사 공간을 볼 수 있는 지도 형태를 보여줌\n",
        "  - Base price :\n",
        "  - Minimum Price\n",
        "  - Maximum Price\n",
        "  - Day of the week price Factor"
      ],
      "metadata": {
        "id": "N1N6GXSfqwy7"
      }
    },
    {
      "cell_type": "markdown",
      "source": [
        "Airbnb Dynamic Pricing prediction\n",
        "- 연간 예약률을 더 잘 볼 수 있도록 달력에 52주 가격을 예측해 보여줌\n",
        "- 52-week price outlook\n",
        "  - base price\n",
        "  - min/max price\n",
        "  - price range\n",
        "\n",
        "- Custom Rates\n",
        "  - sep\n",
        "  - Feb\n",
        "\n",
        "- Local Event list\n",
        "  - MLS ...."
      ],
      "metadata": {
        "id": "TEK8AAAYtHr1"
      }
    }
  ]
}