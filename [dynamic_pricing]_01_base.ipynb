{
  "nbformat": 4,
  "nbformat_minor": 0,
  "metadata": {
    "colab": {
      "provenance": [],
      "authorship_tag": "ABX9TyOyoWzWubYyaKk9KTsFnkcV",
      "include_colab_link": true
    },
    "kernelspec": {
      "name": "python3",
      "display_name": "Python 3"
    },
    "language_info": {
      "name": "python"
    }
  },
  "cells": [
    {
      "cell_type": "markdown",
      "metadata": {
        "id": "view-in-github",
        "colab_type": "text"
      },
      "source": [
        "<a href=\"https://colab.research.google.com/github/jinseriouspark/pricing/blob/main/%5Bdynamic_pricing%5D_01_base.ipynb\" target=\"_parent\"><img src=\"https://colab.research.google.com/assets/colab-badge.svg\" alt=\"Open In Colab\"/></a>"
      ]
    },
    {
      "cell_type": "markdown",
      "source": [
        "# Dynamic pricing - 01. base\n",
        "\n",
        "[reference : chatGPT]\n",
        "\n",
        "\n",
        "- 상품이나 서비스의 가격이 수요와 공급에 따라 변하는 것을 말해요.\n",
        "예를 들어 아이스크림 가게에서 아주 더운 날씨에는 사람들이 아이스크림을 더 많이 사려고 해요. 가게 주인은 가격을 조금 올려도 되겠죠. 반대로 날씨가 추운 날에는 아이스크림을 사려는 사람들이 적을테니 가격을 낮춰 판매를 유도할 수 있겠죠.\n",
        "\n",
        "- 놀이공원도 생각해볼까요? 주말이나 방학때는 놀이공원에 오는 사람들이 많아 놀이기구의 가격이 비쌀 수 있어요. 평일이나 사람들이 적을때는 가격을 낮춰보면 어떨까요? 그럼 더 많은 사람들이 찾아와 놀이기구를 탈지도 모릅니다.\n",
        "\n",
        "- 이렇게 수요와 공급에 따라 가격이 변하는 것을 '다이나믹 프라이싱' 이라고 합니다. 판매자들은 더 많은 이익을 얻고, 소비자들도 상황에 맞는 가격으로 물건을 살 수 있어요.\n"
      ],
      "metadata": {
        "id": "f8_NujIXWKdX"
      }
    },
    {
      "cell_type": "markdown",
      "source": [
        "## 쉬운 예제 : 항공권 가격\n",
        "- 항공권 가격은 dynamic pricing 의 대표적인 사례에요.\n",
        "항공사는 다음과 같은 요소들을 고려해 가격을 조정하게 됩니다.\n",
        "\n",
        "1. 수요 : 특정 노선의 수요가 높을 때 가격을 올립니다.\n",
        "2. 시간 : 출발 날짜가 가까워질 수록 가격을 올리거나 내릴 수 있습니다.\n",
        "3. 경쟁자 가격 : 다른 항공사의 가격을 모니터링하여 가격을 조정합니다.\n",
        "4. 좌석 가용성 : 좌석이 많이 남아있으면 가격을 낮추고, 적으면 올립니다."
      ],
      "metadata": {
        "id": "Z9eI37ZoWydE"
      }
    },
    {
      "cell_type": "code",
      "execution_count": 1,
      "metadata": {
        "id": "qQwRbtUVWGgq"
      },
      "outputs": [],
      "source": [
        "# 간단한 다이나밍 프라이싱 모델을 구현합니다.\n",
        "# 수요와 남은 좌석수를 고려하여 가격을 조정하고자 합니다.\n",
        "\n",
        "import numpy as np"
      ]
    },
    {
      "cell_type": "code",
      "source": [
        "def dynamic_pricing(base_price, demand, remaining_seats):\n",
        "  # demand 평균을 0.5 로 두고 (랜덤함수 활용해 생성할 예정이기 때문)\n",
        "  # 평균보다 높으면 올리고, 낮으면 내리는 지표\n",
        "  demand_factor = 1 + (demand - 0.5)\n",
        "\n",
        "  # 남은 좌석이 적으면 가격을 올림\n",
        "  if remaining_seats < 20:\n",
        "    seat_factor = 1.5\n",
        "  elif remaining_seats < 50:\n",
        "    seat_factor = 1.2\n",
        "  else :\n",
        "    seat_factor = 1.0\n",
        "\n",
        "  final_price = base_price * demand_factor * seat_factor\n",
        "  return final_price\n"
      ],
      "metadata": {
        "id": "eZKj94HcXKL2"
      },
      "execution_count": 2,
      "outputs": []
    },
    {
      "cell_type": "code",
      "source": [
        "base_price = 100.0\n",
        "demand = np.random.rand()\n",
        "remaining_seats = np.random.randint(1, 100)\n",
        "\n",
        "price = dynamic_pricing(base_price, demand, remaining_seats)\n",
        "print(f'base_price: ', base_price)\n",
        "print(f'demand: ', demand)\n",
        "print(f'remaining_seats: ', remaining_seats)\n",
        "print(f'price: ',price)\n",
        "\n",
        "# 현재 수요는 평균보다 높은 0.75이며, 남은 좌석은 4 (20개 미만) 이기 때문에 해당 부분이 반영되어\n",
        "# 최종가격이 188이 되었음"
      ],
      "metadata": {
        "colab": {
          "base_uri": "https://localhost:8080/"
        },
        "id": "NwNxM0V3YUgR",
        "outputId": "869d6b30-cd20-4738-ed6e-a3b9ceb22612"
      },
      "execution_count": 5,
      "outputs": [
        {
          "output_type": "stream",
          "name": "stdout",
          "text": [
            "base_price:  100.0\n",
            "demand:  0.7576814916721563\n",
            "remaining_seats:  4\n",
            "price:  188.65222375082342\n"
          ]
        }
      ]
    },
    {
      "cell_type": "code",
      "source": [
        "# 시각화\n",
        "import pandas as pd\n",
        "import numpy as np\n",
        "import matplotlib.pyplot as plt\n",
        "import seaborn as sns"
      ],
      "metadata": {
        "id": "wrdhPqKMYfnc"
      },
      "execution_count": 6,
      "outputs": []
    },
    {
      "cell_type": "code",
      "source": [
        "np.random.seed(717)\n",
        "time_points = pd.date_range('2024-07-17', periods = 24, freq = 'H')\n",
        "base_price = 100\n",
        "\n",
        "price_fluctuations = np.random.normal(loc=0, scale=10, size=len(time_points))\n",
        "prices = base_price + price_fluctuations.cumsum()"
      ],
      "metadata": {
        "id": "SeXYQDlMZFdI"
      },
      "execution_count": 8,
      "outputs": []
    },
    {
      "cell_type": "code",
      "source": [
        "price_fluctuations"
      ],
      "metadata": {
        "colab": {
          "base_uri": "https://localhost:8080/"
        },
        "id": "71vE--CuZeYZ",
        "outputId": "2ead2926-5e13-41dc-84ba-28337baf68da"
      },
      "execution_count": 11,
      "outputs": [
        {
          "output_type": "execute_result",
          "data": {
            "text/plain": [
              "array([ 12.87434599,   8.47925668,   0.89372631, -13.9270388 ,\n",
              "        10.25857037,   5.94340819,   8.911929  ,   0.73195895,\n",
              "       -16.19888243,  -3.75179626,   6.96025512,  -0.48898375,\n",
              "        10.00537713,   2.72463596,   2.83007484, -21.51908029,\n",
              "         1.85452182,  -7.50909562,  -1.32137023,  -7.09087278,\n",
              "        -9.87445456,   0.30166811,   0.60598162,   3.79724364])"
            ]
          },
          "metadata": {},
          "execution_count": 11
        }
      ]
    },
    {
      "cell_type": "code",
      "source": [
        "prices"
      ],
      "metadata": {
        "colab": {
          "base_uri": "https://localhost:8080/"
        },
        "id": "Dv-6zYfdZaVf",
        "outputId": "32d55624-40e0-4f30-a268-5c664cc5400f"
      },
      "execution_count": 9,
      "outputs": [
        {
          "output_type": "execute_result",
          "data": {
            "text/plain": [
              "array([112.87434599, 121.35360268, 122.24732899, 108.32029019,\n",
              "       118.57886055, 124.52226875, 133.43419775, 134.1661567 ,\n",
              "       117.96727426, 114.215478  , 121.17573312, 120.68674937,\n",
              "       130.69212651, 133.41676246, 136.2468373 , 114.72775701,\n",
              "       116.58227883, 109.07318321, 107.75181298, 100.66094019,\n",
              "        90.78648564,  91.08815375,  91.69413537,  95.49137901])"
            ]
          },
          "metadata": {},
          "execution_count": 9
        }
      ]
    },
    {
      "cell_type": "code",
      "source": [
        "data = pd.DataFrame(data = {'time': time_points, 'prices': prices})\n",
        "plt.figure(figsize=(10, 6))\n",
        "data.plot(x='time', y='prices')\n",
        "plt.title('Dynamic Pricing')\n",
        "plt.xlabel('Time')\n",
        "plt.ylabel('Price')\n",
        "plt.show()"
      ],
      "metadata": {
        "colab": {
          "base_uri": "https://localhost:8080/",
          "height": 505
        },
        "id": "OfNF_fViZb6Z",
        "outputId": "21d24f5e-0173-4762-fd0f-062c7c13ddb3"
      },
      "execution_count": 13,
      "outputs": [
        {
          "output_type": "display_data",
          "data": {
            "text/plain": [
              "<Figure size 1000x600 with 0 Axes>"
            ]
          },
          "metadata": {}
        },
        {
          "output_type": "display_data",
          "data": {
            "text/plain": [
              "<Figure size 640x480 with 1 Axes>"
            ],
            "image/png": "[encoded data removed]"
          },
          "metadata": {}
        }
      ]
    }
  ]
}